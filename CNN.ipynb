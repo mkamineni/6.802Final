{
 "cells": [
  {
   "cell_type": "code",
   "execution_count": 33,
   "metadata": {},
   "outputs": [],
   "source": [
    "import pandas as pd\n",
    "import numpy as np\n",
    "import os\n",
    "import shutil\n",
    "\n",
    "from keras.models import Sequential\n",
    "from keras.layers import Dense, Dropout, Flatten\n",
    "from keras.layers import Conv2D, MaxPooling2D\n",
    "from sklearn.model_selection import StratifiedKFold\n",
    "from tensorflow.keras.preprocessing.image import ImageDataGenerator\n",
    "from tensorflow.keras.optimizers import RMSprop\n",
    "from tensorflow.keras.callbacks import EarlyStopping\n",
    "from keras.callbacks.callbacks import ModelCheckpoint"
   ]
  },
  {
   "cell_type": "markdown",
   "metadata": {},
   "source": [
    "REPLACE CELL BELOW WITH GETTING REAL DATA"
   ]
  },
  {
   "cell_type": "code",
   "execution_count": 25,
   "metadata": {},
   "outputs": [
    {
     "name": "stdout",
     "output_type": "stream",
     "text": [
      "322\n",
      "322\n"
     ]
    }
   ],
   "source": [
    "#split into test and train directories\n",
    "source1 = \"images/small2\"\n",
    "dest11 = \"cnn_images/test\"\n",
    "dest12 = \"cnn_images/training\"\n",
    "classes = {0:\"/crohns\", 1: \"/bowel\", 2:\"/none\"}\n",
    "files = os.listdir(source1)\n",
    "print(len(files))\n",
    "import numpy as np\n",
    "\n",
    "f = open('classifications.txt', 'r').read()\n",
    "samples_to_label = eval(f)\n",
    "print(len(samples_to_label))\n",
    "\n",
    "for f in files:\n",
    "    sample = f[:-4]\n",
    "    classification = samples_to_label[sample]\n",
    "    if np.random.rand(1) < 0.4:\n",
    "        shutil.copyfile(source1 + '/'+ f, dest11 + classes[classification]+'/'+ f)\n",
    "    else:\n",
    "        shutil.copyfile(source1 + '/'+ f, dest12 + classes[classification]+'/'+ f)\n",
    "        \n"
   ]
  },
  {
   "cell_type": "code",
   "execution_count": 26,
   "metadata": {},
   "outputs": [
    {
     "name": "stdout",
     "output_type": "stream",
     "text": [
      "Found 184 images belonging to 3 classes.\n",
      "Found 138 images belonging to 3 classes.\n"
     ]
    }
   ],
   "source": [
    "#load images\n",
    "train_data_dir = 'cnn_images/training/'\n",
    "test_data_dir = 'cnn_images/test/'\n",
    "\n",
    "train_gen = ImageDataGenerator(rescale = 1.0/255)\n",
    "\n",
    "test_gen = ImageDataGenerator(rescale = 1.0/255)\n",
    "\n",
    "train_generator = train_gen.flow_from_directory(train_data_dir,\n",
    "                                        classes = ['crohns', 'bowel', 'none'],\n",
    "                                        batch_size = 20,\n",
    "                                        class_mode = \"categorical\",\n",
    "                                        target_size = (150, 150))\n",
    "\n",
    "test_generator = test_gen.flow_from_directory(test_data_dir,\n",
    "                                        classes = ['crohns', 'bowel', 'none'],\n",
    "                                        batch_size = 20,\n",
    "                                        class_mode = \"categorical\",\n",
    "                                        target_size = (150, 150))"
   ]
  },
  {
   "cell_type": "code",
   "execution_count": 27,
   "metadata": {},
   "outputs": [],
   "source": [
    "'''\n",
    "Build CNN model with multiple layers.\n",
    "'''\n",
    "def build_cnn(dropout_rate):\n",
    "    model = Sequential()\n",
    "    model.add(Conv2D(32, (3, 3), activation = 'relu', input_shape=(150, 150, 3)))\n",
    "    model.add(MaxPooling2D(pool_size=(2, 2), dim_ordering=\"th\"))\n",
    "\n",
    "    model.add(Conv2D(32, (3, 3), activation = 'relu'))\n",
    "    model.add(MaxPooling2D(pool_size=(2, 2), dim_ordering=\"th\"))\n",
    "\n",
    "    model.add(Conv2D(64, (3, 3), activation = 'relu'))\n",
    "    model.add(MaxPooling2D(pool_size=(2, 2), dim_ordering=\"th\"))\n",
    "\n",
    "    model.add(Flatten())\n",
    "    model.add(Dense(128, activation='relu'))\n",
    "    model.add(Dropout(dropout_rate))\n",
    "    model.add(Dense(3, activation='softmax'))\n",
    "    return model\n"
   ]
  },
  {
   "cell_type": "code",
   "execution_count": 23,
   "metadata": {},
   "outputs": [],
   "source": [
    "#Define set of options for hyperparameters\n",
    "dropout_rates = [0.1, 0.2,  0.5, 0.8]\n",
    "learning_rates = [0.001, 0.01, 0.1]\n",
    "accs = np.zeros((len(dropout_rates), len(learning_rates)))"
   ]
  },
  {
   "cell_type": "code",
   "execution_count": 28,
   "metadata": {},
   "outputs": [
    {
     "name": "stderr",
     "output_type": "stream",
     "text": [
      "/opt/anaconda3/lib/python3.7/site-packages/ipykernel_launcher.py:7: UserWarning: Update your `MaxPooling2D` call to the Keras 2 API: `MaxPooling2D(pool_size=(2, 2), data_format=\"channels_first\")`\n",
      "  import sys\n",
      "/opt/anaconda3/lib/python3.7/site-packages/ipykernel_launcher.py:10: UserWarning: Update your `MaxPooling2D` call to the Keras 2 API: `MaxPooling2D(pool_size=(2, 2), data_format=\"channels_first\")`\n",
      "  # Remove the CWD from sys.path while we load stuff.\n",
      "/opt/anaconda3/lib/python3.7/site-packages/ipykernel_launcher.py:13: UserWarning: Update your `MaxPooling2D` call to the Keras 2 API: `MaxPooling2D(pool_size=(2, 2), data_format=\"channels_first\")`\n",
      "  del sys.path[0]\n"
     ]
    },
    {
     "name": "stdout",
     "output_type": "stream",
     "text": [
      "Epoch 1/15\n",
      "100/100 [==============================] - 72s 725ms/step - loss: 1.4983 - accuracy: 0.6538 - val_loss: 0.9428 - val_accuracy: 0.6653\n",
      "Epoch 2/15\n",
      "100/100 [==============================] - 68s 681ms/step - loss: 0.9257 - accuracy: 0.6560 - val_loss: 0.8853 - val_accuracy: 0.6663\n",
      "Epoch 3/15\n",
      "100/100 [==============================] - 65s 647ms/step - loss: 0.8828 - accuracy: 0.6772 - val_loss: 0.8798 - val_accuracy: 0.6704\n",
      "Epoch 4/15\n",
      "100/100 [==============================] - 65s 650ms/step - loss: 0.9062 - accuracy: 0.6826 - val_loss: 1.1392 - val_accuracy: 0.6613\n",
      "Epoch 5/15\n",
      "100/100 [==============================] - 61s 607ms/step - loss: 0.8510 - accuracy: 0.6848 - val_loss: 0.5979 - val_accuracy: 0.6744\n",
      "Epoch 6/15\n",
      "100/100 [==============================] - 59s 593ms/step - loss: 0.8996 - accuracy: 0.6848 - val_loss: 0.9972 - val_accuracy: 0.6653\n",
      "Epoch 7/15\n",
      "100/100 [==============================] - 61s 610ms/step - loss: 0.8745 - accuracy: 0.6848 - val_loss: 1.1608 - val_accuracy: 0.6636\n",
      "Epoch 8/15\n",
      "100/100 [==============================] - 61s 613ms/step - loss: 0.8562 - accuracy: 0.6848 - val_loss: 0.8707 - val_accuracy: 0.6663\n",
      "Epoch 9/15\n",
      "100/100 [==============================] - 62s 615ms/step - loss: 0.8646 - accuracy: 0.6848 - val_loss: 0.8205 - val_accuracy: 0.6704\n",
      "Epoch 10/15\n",
      "100/100 [==============================] - 54s 536ms/step - loss: 0.8510 - accuracy: 0.6848 - val_loss: 0.8956 - val_accuracy: 0.6613\n",
      "Epoch 11/15\n",
      "100/100 [==============================] - 47s 474ms/step - loss: 0.8572 - accuracy: 0.6848 - val_loss: 0.9152 - val_accuracy: 0.6684\n",
      "Epoch 12/15\n",
      "100/100 [==============================] - 48s 478ms/step - loss: 0.8441 - accuracy: 0.6848 - val_loss: 0.9155 - val_accuracy: 0.6684\n",
      "Epoch 13/15\n",
      "100/100 [==============================] - 52s 516ms/step - loss: 0.8479 - accuracy: 0.6848 - val_loss: 0.9816 - val_accuracy: 0.6673\n",
      "Epoch 14/15\n",
      "100/100 [==============================] - 53s 533ms/step - loss: 0.8137 - accuracy: 0.6848 - val_loss: 0.8394 - val_accuracy: 0.6646\n",
      "Epoch 15/15\n",
      "100/100 [==============================] - 53s 529ms/step - loss: 0.7888 - accuracy: 0.6826 - val_loss: 1.1988 - val_accuracy: 0.6633\n"
     ]
    },
    {
     "name": "stderr",
     "output_type": "stream",
     "text": [
      "/opt/anaconda3/lib/python3.7/site-packages/ipykernel_launcher.py:7: UserWarning: Update your `MaxPooling2D` call to the Keras 2 API: `MaxPooling2D(pool_size=(2, 2), data_format=\"channels_first\")`\n",
      "  import sys\n",
      "/opt/anaconda3/lib/python3.7/site-packages/ipykernel_launcher.py:10: UserWarning: Update your `MaxPooling2D` call to the Keras 2 API: `MaxPooling2D(pool_size=(2, 2), data_format=\"channels_first\")`\n",
      "  # Remove the CWD from sys.path while we load stuff.\n",
      "/opt/anaconda3/lib/python3.7/site-packages/ipykernel_launcher.py:13: UserWarning: Update your `MaxPooling2D` call to the Keras 2 API: `MaxPooling2D(pool_size=(2, 2), data_format=\"channels_first\")`\n",
      "  del sys.path[0]\n"
     ]
    },
    {
     "name": "stdout",
     "output_type": "stream",
     "text": [
      "Epoch 1/15\n",
      "100/100 [==============================] - 52s 519ms/step - loss: 96.7071 - accuracy: 0.6707 - val_loss: 0.8625 - val_accuracy: 0.6663\n",
      "Epoch 2/15\n",
      "100/100 [==============================] - 52s 518ms/step - loss: 0.8482 - accuracy: 0.6848 - val_loss: 1.0497 - val_accuracy: 0.6673\n",
      "Epoch 3/15\n",
      "100/100 [==============================] - 52s 517ms/step - loss: 0.8630 - accuracy: 0.6848 - val_loss: 0.8872 - val_accuracy: 0.6633\n",
      "Epoch 4/15\n",
      "100/100 [==============================] - 55s 547ms/step - loss: 0.8527 - accuracy: 0.6848 - val_loss: 0.7512 - val_accuracy: 0.6663\n",
      "Epoch 5/15\n",
      "100/100 [==============================] - 56s 565ms/step - loss: 0.8446 - accuracy: 0.6848 - val_loss: 1.1224 - val_accuracy: 0.6673\n",
      "Epoch 6/15\n",
      "100/100 [==============================] - 56s 564ms/step - loss: 0.8434 - accuracy: 0.6848 - val_loss: 0.8747 - val_accuracy: 0.6694\n",
      "Epoch 7/15\n",
      "100/100 [==============================] - 56s 565ms/step - loss: 0.8502 - accuracy: 0.6848 - val_loss: 0.8590 - val_accuracy: 0.6667\n",
      "Epoch 8/15\n",
      "100/100 [==============================] - 56s 561ms/step - loss: 0.8368 - accuracy: 0.6848 - val_loss: 0.7982 - val_accuracy: 0.6673\n",
      "Epoch 9/15\n",
      "100/100 [==============================] - 58s 579ms/step - loss: 0.8491 - accuracy: 0.6848 - val_loss: 0.6049 - val_accuracy: 0.6694\n",
      "Epoch 10/15\n",
      "100/100 [==============================] - 57s 573ms/step - loss: 0.8468 - accuracy: 0.6848 - val_loss: 0.7118 - val_accuracy: 0.6613\n",
      "Epoch 11/15\n",
      "100/100 [==============================] - 57s 574ms/step - loss: 0.8413 - accuracy: 0.6848 - val_loss: 0.7295 - val_accuracy: 0.6755\n",
      "Epoch 12/15\n",
      "100/100 [==============================] - 58s 578ms/step - loss: 0.8442 - accuracy: 0.6848 - val_loss: 1.0223 - val_accuracy: 0.6633\n",
      "Epoch 13/15\n",
      "100/100 [==============================] - 60s 603ms/step - loss: 0.8365 - accuracy: 0.6848 - val_loss: 0.9677 - val_accuracy: 0.6633\n",
      "Epoch 14/15\n",
      "100/100 [==============================] - 56s 564ms/step - loss: 0.8535 - accuracy: 0.6848 - val_loss: 0.8488 - val_accuracy: 0.6667\n",
      "Epoch 15/15\n",
      "100/100 [==============================] - 57s 572ms/step - loss: 0.8557 - accuracy: 0.6848 - val_loss: 0.9658 - val_accuracy: 0.6653\n"
     ]
    },
    {
     "name": "stderr",
     "output_type": "stream",
     "text": [
      "/opt/anaconda3/lib/python3.7/site-packages/ipykernel_launcher.py:7: UserWarning: Update your `MaxPooling2D` call to the Keras 2 API: `MaxPooling2D(pool_size=(2, 2), data_format=\"channels_first\")`\n",
      "  import sys\n",
      "/opt/anaconda3/lib/python3.7/site-packages/ipykernel_launcher.py:10: UserWarning: Update your `MaxPooling2D` call to the Keras 2 API: `MaxPooling2D(pool_size=(2, 2), data_format=\"channels_first\")`\n",
      "  # Remove the CWD from sys.path while we load stuff.\n",
      "/opt/anaconda3/lib/python3.7/site-packages/ipykernel_launcher.py:13: UserWarning: Update your `MaxPooling2D` call to the Keras 2 API: `MaxPooling2D(pool_size=(2, 2), data_format=\"channels_first\")`\n",
      "  del sys.path[0]\n"
     ]
    },
    {
     "name": "stdout",
     "output_type": "stream",
     "text": [
      "Epoch 1/15\n",
      "100/100 [==============================] - 59s 592ms/step - loss: 1595524.8392 - accuracy: 0.6467 - val_loss: 0.9120 - val_accuracy: 0.6663\n",
      "Epoch 2/15\n",
      "100/100 [==============================] - 60s 596ms/step - loss: 0.8612 - accuracy: 0.6848 - val_loss: 0.9561 - val_accuracy: 0.6684\n",
      "Epoch 3/15\n",
      "100/100 [==============================] - 60s 597ms/step - loss: 0.8540 - accuracy: 0.6848 - val_loss: 0.9485 - val_accuracy: 0.6653\n",
      "Epoch 4/15\n",
      "100/100 [==============================] - 61s 607ms/step - loss: 0.8562 - accuracy: 0.6848 - val_loss: 0.7836 - val_accuracy: 0.6663\n",
      "Epoch 5/15\n",
      "100/100 [==============================] - 61s 609ms/step - loss: 0.8532 - accuracy: 0.6848 - val_loss: 0.8722 - val_accuracy: 0.6643\n",
      "Epoch 6/15\n",
      "100/100 [==============================] - 59s 586ms/step - loss: 0.8444 - accuracy: 0.6848 - val_loss: 0.6686 - val_accuracy: 0.6714\n",
      "Epoch 7/15\n",
      "100/100 [==============================] - 57s 575ms/step - loss: 0.8490 - accuracy: 0.6848 - val_loss: 0.8245 - val_accuracy: 0.6646\n",
      "Epoch 8/15\n",
      "100/100 [==============================] - 58s 583ms/step - loss: 0.8337 - accuracy: 0.6848 - val_loss: 0.7504 - val_accuracy: 0.6684\n",
      "Epoch 9/15\n",
      "100/100 [==============================] - 55s 547ms/step - loss: 0.8484 - accuracy: 0.6848 - val_loss: 0.9161 - val_accuracy: 0.6663\n",
      "Epoch 10/15\n",
      "100/100 [==============================] - 56s 559ms/step - loss: 0.8587 - accuracy: 0.6848 - val_loss: 0.8680 - val_accuracy: 0.6694\n",
      "Epoch 11/15\n",
      "100/100 [==============================] - 58s 581ms/step - loss: 0.8593 - accuracy: 0.6848 - val_loss: 0.9698 - val_accuracy: 0.6623\n",
      "Epoch 12/15\n",
      "100/100 [==============================] - 59s 586ms/step - loss: 0.8441 - accuracy: 0.6848 - val_loss: 0.7387 - val_accuracy: 0.6704\n",
      "Epoch 13/15\n",
      "100/100 [==============================] - 60s 602ms/step - loss: 0.8386 - accuracy: 0.6848 - val_loss: 0.8880 - val_accuracy: 0.6623\n",
      "Epoch 14/15\n",
      "100/100 [==============================] - 63s 625ms/step - loss: 0.8517 - accuracy: 0.6848 - val_loss: 0.9642 - val_accuracy: 0.6677\n",
      "Epoch 15/15\n",
      "100/100 [==============================] - 59s 591ms/step - loss: 0.8586 - accuracy: 0.6848 - val_loss: 0.7214 - val_accuracy: 0.6684\n"
     ]
    },
    {
     "name": "stderr",
     "output_type": "stream",
     "text": [
      "/opt/anaconda3/lib/python3.7/site-packages/ipykernel_launcher.py:7: UserWarning: Update your `MaxPooling2D` call to the Keras 2 API: `MaxPooling2D(pool_size=(2, 2), data_format=\"channels_first\")`\n",
      "  import sys\n",
      "/opt/anaconda3/lib/python3.7/site-packages/ipykernel_launcher.py:10: UserWarning: Update your `MaxPooling2D` call to the Keras 2 API: `MaxPooling2D(pool_size=(2, 2), data_format=\"channels_first\")`\n",
      "  # Remove the CWD from sys.path while we load stuff.\n",
      "/opt/anaconda3/lib/python3.7/site-packages/ipykernel_launcher.py:13: UserWarning: Update your `MaxPooling2D` call to the Keras 2 API: `MaxPooling2D(pool_size=(2, 2), data_format=\"channels_first\")`\n",
      "  del sys.path[0]\n"
     ]
    },
    {
     "name": "stdout",
     "output_type": "stream",
     "text": [
      "Epoch 1/15\n",
      "100/100 [==============================] - 62s 618ms/step - loss: 1.2759 - accuracy: 0.6516 - val_loss: 0.7622 - val_accuracy: 0.6684\n",
      "Epoch 2/15\n",
      "100/100 [==============================] - 64s 642ms/step - loss: 0.9077 - accuracy: 0.6788 - val_loss: 0.7353 - val_accuracy: 0.6663\n",
      "Epoch 3/15\n",
      "100/100 [==============================] - 59s 590ms/step - loss: 0.8801 - accuracy: 0.6848 - val_loss: 0.9581 - val_accuracy: 0.6673\n",
      "Epoch 4/15\n",
      "100/100 [==============================] - 63s 627ms/step - loss: 0.8582 - accuracy: 0.6848 - val_loss: 1.1192 - val_accuracy: 0.6592\n",
      "Epoch 5/15\n",
      "100/100 [==============================] - 58s 578ms/step - loss: 0.8478 - accuracy: 0.6848 - val_loss: 1.0794 - val_accuracy: 0.6744\n",
      "Epoch 6/15\n",
      "100/100 [==============================] - 57s 568ms/step - loss: 0.8118 - accuracy: 0.6848 - val_loss: 0.7315 - val_accuracy: 0.6623\n",
      "Epoch 7/15\n",
      "100/100 [==============================] - 58s 581ms/step - loss: 0.7778 - accuracy: 0.6848 - val_loss: 0.8717 - val_accuracy: 0.6687\n",
      "Epoch 8/15\n",
      "100/100 [==============================] - 57s 572ms/step - loss: 0.7415 - accuracy: 0.6848 - val_loss: 0.7637 - val_accuracy: 0.6673\n",
      "Epoch 9/15\n",
      "100/100 [==============================] - 61s 609ms/step - loss: 0.7030 - accuracy: 0.6848 - val_loss: 0.8720 - val_accuracy: 0.6633\n",
      "Epoch 10/15\n",
      "100/100 [==============================] - 56s 557ms/step - loss: 0.6582 - accuracy: 0.6848 - val_loss: 0.7278 - val_accuracy: 0.6694\n",
      "Epoch 11/15\n",
      "100/100 [==============================] - 56s 564ms/step - loss: 0.6334 - accuracy: 0.6908 - val_loss: 0.7622 - val_accuracy: 0.6734\n",
      "Epoch 12/15\n",
      "100/100 [==============================] - 56s 562ms/step - loss: 0.5845 - accuracy: 0.7038 - val_loss: 0.8850 - val_accuracy: 0.7181\n",
      "Epoch 13/15\n",
      "100/100 [==============================] - 56s 559ms/step - loss: 0.5366 - accuracy: 0.7326 - val_loss: 0.5234 - val_accuracy: 0.7160\n",
      "Epoch 14/15\n",
      "100/100 [==============================] - 59s 585ms/step - loss: 0.5149 - accuracy: 0.7484 - val_loss: 0.7058 - val_accuracy: 0.7012\n",
      "Epoch 15/15\n",
      "100/100 [==============================] - 60s 596ms/step - loss: 0.5024 - accuracy: 0.7576 - val_loss: 0.7764 - val_accuracy: 0.6937\n"
     ]
    },
    {
     "name": "stderr",
     "output_type": "stream",
     "text": [
      "/opt/anaconda3/lib/python3.7/site-packages/ipykernel_launcher.py:7: UserWarning: Update your `MaxPooling2D` call to the Keras 2 API: `MaxPooling2D(pool_size=(2, 2), data_format=\"channels_first\")`\n",
      "  import sys\n",
      "/opt/anaconda3/lib/python3.7/site-packages/ipykernel_launcher.py:10: UserWarning: Update your `MaxPooling2D` call to the Keras 2 API: `MaxPooling2D(pool_size=(2, 2), data_format=\"channels_first\")`\n",
      "  # Remove the CWD from sys.path while we load stuff.\n",
      "/opt/anaconda3/lib/python3.7/site-packages/ipykernel_launcher.py:13: UserWarning: Update your `MaxPooling2D` call to the Keras 2 API: `MaxPooling2D(pool_size=(2, 2), data_format=\"channels_first\")`\n",
      "  del sys.path[0]\n"
     ]
    },
    {
     "name": "stdout",
     "output_type": "stream",
     "text": [
      "Epoch 1/15\n",
      "100/100 [==============================] - 60s 602ms/step - loss: 97.4571 - accuracy: 0.6457 - val_loss: 0.8439 - val_accuracy: 0.6673\n",
      "Epoch 2/15\n",
      "100/100 [==============================] - 59s 588ms/step - loss: 0.8383 - accuracy: 0.6848 - val_loss: 0.5303 - val_accuracy: 0.6684\n",
      "Epoch 3/15\n",
      "100/100 [==============================] - 59s 594ms/step - loss: 0.8373 - accuracy: 0.6848 - val_loss: 0.8580 - val_accuracy: 0.6623\n",
      "Epoch 4/15\n",
      "100/100 [==============================] - 61s 605ms/step - loss: 0.8623 - accuracy: 0.6848 - val_loss: 0.6687 - val_accuracy: 0.6704\n",
      "Epoch 5/15\n",
      "100/100 [==============================] - 58s 580ms/step - loss: 0.8455 - accuracy: 0.6848 - val_loss: 1.1233 - val_accuracy: 0.6694\n",
      "Epoch 6/15\n",
      "100/100 [==============================] - 56s 561ms/step - loss: 0.8485 - accuracy: 0.6848 - val_loss: 1.1979 - val_accuracy: 0.6623\n",
      "Epoch 7/15\n",
      "100/100 [==============================] - 57s 570ms/step - loss: 0.8457 - accuracy: 0.6848 - val_loss: 0.7483 - val_accuracy: 0.6667\n",
      "Epoch 8/15\n",
      "100/100 [==============================] - 57s 572ms/step - loss: 0.8426 - accuracy: 0.6848 - val_loss: 0.8083 - val_accuracy: 0.6673\n",
      "Epoch 9/15\n",
      "100/100 [==============================] - 57s 569ms/step - loss: 0.8448 - accuracy: 0.6848 - val_loss: 0.9150 - val_accuracy: 0.6704\n",
      "Epoch 10/15\n",
      "100/100 [==============================] - 60s 602ms/step - loss: 0.8397 - accuracy: 0.6848 - val_loss: 0.7330 - val_accuracy: 0.6653\n",
      "Epoch 11/15\n",
      "100/100 [==============================] - 56s 562ms/step - loss: 0.8228 - accuracy: 0.6848 - val_loss: 0.8064 - val_accuracy: 0.6643\n",
      "Epoch 12/15\n",
      "100/100 [==============================] - 58s 584ms/step - loss: 0.8423 - accuracy: 0.6848 - val_loss: 0.7791 - val_accuracy: 0.6694\n",
      "Epoch 13/15\n",
      "100/100 [==============================] - 58s 582ms/step - loss: 0.8597 - accuracy: 0.6848 - val_loss: 0.7344 - val_accuracy: 0.6673\n",
      "Epoch 14/15\n",
      "100/100 [==============================] - 59s 592ms/step - loss: 0.8292 - accuracy: 0.6848 - val_loss: 0.9254 - val_accuracy: 0.6626\n",
      "Epoch 15/15\n",
      "100/100 [==============================] - 59s 587ms/step - loss: 0.8496 - accuracy: 0.6848 - val_loss: 0.8763 - val_accuracy: 0.6663\n"
     ]
    },
    {
     "name": "stderr",
     "output_type": "stream",
     "text": [
      "/opt/anaconda3/lib/python3.7/site-packages/ipykernel_launcher.py:7: UserWarning: Update your `MaxPooling2D` call to the Keras 2 API: `MaxPooling2D(pool_size=(2, 2), data_format=\"channels_first\")`\n",
      "  import sys\n",
      "/opt/anaconda3/lib/python3.7/site-packages/ipykernel_launcher.py:10: UserWarning: Update your `MaxPooling2D` call to the Keras 2 API: `MaxPooling2D(pool_size=(2, 2), data_format=\"channels_first\")`\n",
      "  # Remove the CWD from sys.path while we load stuff.\n",
      "/opt/anaconda3/lib/python3.7/site-packages/ipykernel_launcher.py:13: UserWarning: Update your `MaxPooling2D` call to the Keras 2 API: `MaxPooling2D(pool_size=(2, 2), data_format=\"channels_first\")`\n",
      "  del sys.path[0]\n"
     ]
    },
    {
     "name": "stdout",
     "output_type": "stream",
     "text": [
      "Epoch 1/15\n",
      "100/100 [==============================] - 59s 595ms/step - loss: 2315983.1663 - accuracy: 0.6560 - val_loss: 0.9862 - val_accuracy: 0.6643\n",
      "Epoch 2/15\n",
      "100/100 [==============================] - 57s 571ms/step - loss: 0.8336 - accuracy: 0.6848 - val_loss: 0.7457 - val_accuracy: 0.6704\n",
      "Epoch 3/15\n",
      "100/100 [==============================] - 61s 613ms/step - loss: 0.8442 - accuracy: 0.6848 - val_loss: 0.8133 - val_accuracy: 0.6643\n",
      "Epoch 4/15\n",
      "100/100 [==============================] - 60s 605ms/step - loss: 0.8721 - accuracy: 0.6848 - val_loss: 0.9670 - val_accuracy: 0.6684\n",
      "Epoch 5/15\n",
      "100/100 [==============================] - 59s 589ms/step - loss: 0.8721 - accuracy: 0.6848 - val_loss: 0.8998 - val_accuracy: 0.6653\n",
      "Epoch 6/15\n",
      "100/100 [==============================] - 61s 614ms/step - loss: 0.8655 - accuracy: 0.6848 - val_loss: 0.7376 - val_accuracy: 0.6653\n",
      "Epoch 7/15\n",
      "100/100 [==============================] - 58s 577ms/step - loss: 0.8526 - accuracy: 0.6848 - val_loss: 0.8698 - val_accuracy: 0.6687\n",
      "Epoch 8/15\n",
      "100/100 [==============================] - 57s 575ms/step - loss: 0.8534 - accuracy: 0.6848 - val_loss: 0.6069 - val_accuracy: 0.6704\n",
      "Epoch 9/15\n",
      "100/100 [==============================] - 58s 581ms/step - loss: 0.8604 - accuracy: 0.6848 - val_loss: 1.0360 - val_accuracy: 0.6633\n",
      "Epoch 10/15\n",
      "100/100 [==============================] - 70s 702ms/step - loss: 0.8430 - accuracy: 0.6848 - val_loss: 0.7354 - val_accuracy: 0.6633\n",
      "Epoch 11/15\n",
      "100/100 [==============================] - 61s 611ms/step - loss: 0.8529 - accuracy: 0.6848 - val_loss: 0.8991 - val_accuracy: 0.6643\n",
      "Epoch 12/15\n",
      "100/100 [==============================] - 69s 694ms/step - loss: 0.8542 - accuracy: 0.6848 - val_loss: 0.6628 - val_accuracy: 0.6755\n",
      "Epoch 13/15\n",
      "100/100 [==============================] - 64s 645ms/step - loss: 0.8504 - accuracy: 0.6848 - val_loss: 0.6470 - val_accuracy: 0.6633\n",
      "Epoch 14/15\n",
      "100/100 [==============================] - 60s 599ms/step - loss: 0.8539 - accuracy: 0.6848 - val_loss: 0.5628 - val_accuracy: 0.6667\n",
      "Epoch 15/15\n",
      "100/100 [==============================] - 60s 596ms/step - loss: 0.8518 - accuracy: 0.6848 - val_loss: 1.0603 - val_accuracy: 0.6643\n"
     ]
    },
    {
     "name": "stderr",
     "output_type": "stream",
     "text": [
      "/opt/anaconda3/lib/python3.7/site-packages/ipykernel_launcher.py:7: UserWarning: Update your `MaxPooling2D` call to the Keras 2 API: `MaxPooling2D(pool_size=(2, 2), data_format=\"channels_first\")`\n",
      "  import sys\n",
      "/opt/anaconda3/lib/python3.7/site-packages/ipykernel_launcher.py:10: UserWarning: Update your `MaxPooling2D` call to the Keras 2 API: `MaxPooling2D(pool_size=(2, 2), data_format=\"channels_first\")`\n",
      "  # Remove the CWD from sys.path while we load stuff.\n",
      "/opt/anaconda3/lib/python3.7/site-packages/ipykernel_launcher.py:13: UserWarning: Update your `MaxPooling2D` call to the Keras 2 API: `MaxPooling2D(pool_size=(2, 2), data_format=\"channels_first\")`\n",
      "  del sys.path[0]\n"
     ]
    },
    {
     "name": "stdout",
     "output_type": "stream",
     "text": [
      "Epoch 1/15\n",
      "100/100 [==============================] - 59s 593ms/step - loss: 1.5912 - accuracy: 0.6641 - val_loss: 0.7369 - val_accuracy: 0.6684\n",
      "Epoch 2/15\n",
      "100/100 [==============================] - 59s 593ms/step - loss: 0.8942 - accuracy: 0.6826 - val_loss: 0.8885 - val_accuracy: 0.6663\n",
      "Epoch 3/15\n",
      "100/100 [==============================] - 59s 587ms/step - loss: 0.8632 - accuracy: 0.6837 - val_loss: 0.8226 - val_accuracy: 0.6643\n",
      "Epoch 4/15\n",
      "100/100 [==============================] - 58s 584ms/step - loss: 0.8553 - accuracy: 0.6848 - val_loss: 0.8269 - val_accuracy: 0.6673\n",
      "Epoch 5/15\n",
      "100/100 [==============================] - 58s 584ms/step - loss: 0.8795 - accuracy: 0.6848 - val_loss: 0.7337 - val_accuracy: 0.6684\n",
      "Epoch 6/15\n",
      "100/100 [==============================] - 58s 579ms/step - loss: 0.8605 - accuracy: 0.6842 - val_loss: 0.8075 - val_accuracy: 0.6643\n",
      "Epoch 7/15\n",
      "100/100 [==============================] - 61s 615ms/step - loss: 0.8734 - accuracy: 0.6848 - val_loss: 0.7459 - val_accuracy: 0.6677\n",
      "Epoch 8/15\n",
      "100/100 [==============================] - 61s 607ms/step - loss: 0.8519 - accuracy: 0.6848 - val_loss: 1.1148 - val_accuracy: 0.6643\n",
      "Epoch 9/15\n",
      "100/100 [==============================] - 58s 577ms/step - loss: 0.8465 - accuracy: 0.6848 - val_loss: 0.8504 - val_accuracy: 0.6633\n",
      "Epoch 10/15\n",
      "100/100 [==============================] - 58s 576ms/step - loss: 0.8348 - accuracy: 0.6848 - val_loss: 0.7723 - val_accuracy: 0.6734\n",
      "Epoch 11/15\n",
      "100/100 [==============================] - 57s 572ms/step - loss: 0.8031 - accuracy: 0.6848 - val_loss: 1.0526 - val_accuracy: 0.6623\n",
      "Epoch 12/15\n",
      "100/100 [==============================] - 58s 576ms/step - loss: 0.7518 - accuracy: 0.6848 - val_loss: 0.6872 - val_accuracy: 0.6684\n",
      "Epoch 13/15\n",
      "100/100 [==============================] - 59s 591ms/step - loss: 0.7252 - accuracy: 0.6848 - val_loss: 0.7773 - val_accuracy: 0.6673\n",
      "Epoch 14/15\n",
      "100/100 [==============================] - 64s 639ms/step - loss: 0.6838 - accuracy: 0.6837 - val_loss: 0.7299 - val_accuracy: 0.6677\n",
      "Epoch 15/15\n",
      "100/100 [==============================] - 59s 588ms/step - loss: 0.6763 - accuracy: 0.6842 - val_loss: 0.6769 - val_accuracy: 0.6653\n"
     ]
    },
    {
     "name": "stderr",
     "output_type": "stream",
     "text": [
      "/opt/anaconda3/lib/python3.7/site-packages/ipykernel_launcher.py:7: UserWarning: Update your `MaxPooling2D` call to the Keras 2 API: `MaxPooling2D(pool_size=(2, 2), data_format=\"channels_first\")`\n",
      "  import sys\n",
      "/opt/anaconda3/lib/python3.7/site-packages/ipykernel_launcher.py:10: UserWarning: Update your `MaxPooling2D` call to the Keras 2 API: `MaxPooling2D(pool_size=(2, 2), data_format=\"channels_first\")`\n",
      "  # Remove the CWD from sys.path while we load stuff.\n",
      "/opt/anaconda3/lib/python3.7/site-packages/ipykernel_launcher.py:13: UserWarning: Update your `MaxPooling2D` call to the Keras 2 API: `MaxPooling2D(pool_size=(2, 2), data_format=\"channels_first\")`\n",
      "  del sys.path[0]\n"
     ]
    },
    {
     "name": "stdout",
     "output_type": "stream",
     "text": [
      "Epoch 1/15\n",
      "100/100 [==============================] - 64s 640ms/step - loss: 61.9564 - accuracy: 0.6658 - val_loss: 0.8224 - val_accuracy: 0.6673\n",
      "Epoch 2/15\n",
      "100/100 [==============================] - 63s 631ms/step - loss: 0.8556 - accuracy: 0.6848 - val_loss: 0.8255 - val_accuracy: 0.6643\n",
      "Epoch 3/15\n",
      "100/100 [==============================] - 61s 605ms/step - loss: 0.8538 - accuracy: 0.6848 - val_loss: 1.0099 - val_accuracy: 0.6643\n",
      "Epoch 4/15\n",
      "100/100 [==============================] - 67s 668ms/step - loss: 0.8415 - accuracy: 0.6848 - val_loss: 0.7899 - val_accuracy: 0.6765\n",
      "Epoch 5/15\n",
      "100/100 [==============================] - 66s 657ms/step - loss: 0.8542 - accuracy: 0.6848 - val_loss: 0.7411 - val_accuracy: 0.6613\n",
      "Epoch 6/15\n",
      "100/100 [==============================] - 59s 594ms/step - loss: 0.8375 - accuracy: 0.6848 - val_loss: 0.7397 - val_accuracy: 0.6663\n",
      "Epoch 7/15\n",
      "100/100 [==============================] - 62s 616ms/step - loss: 0.8545 - accuracy: 0.6848 - val_loss: 0.6916 - val_accuracy: 0.6667\n",
      "Epoch 8/15\n",
      "100/100 [==============================] - 60s 603ms/step - loss: 0.8444 - accuracy: 0.6848 - val_loss: 0.8486 - val_accuracy: 0.6673\n",
      "Epoch 9/15\n",
      "100/100 [==============================] - 48s 482ms/step - loss: 0.8418 - accuracy: 0.6848 - val_loss: 0.7585 - val_accuracy: 0.6673\n",
      "Epoch 10/15\n",
      "100/100 [==============================] - 47s 469ms/step - loss: 0.8401 - accuracy: 0.6848 - val_loss: 0.8902 - val_accuracy: 0.6653\n",
      "Epoch 11/15\n",
      "100/100 [==============================] - 52s 518ms/step - loss: 0.8587 - accuracy: 0.6848 - val_loss: 0.8890 - val_accuracy: 0.6663\n",
      "Epoch 12/15\n",
      "100/100 [==============================] - 50s 504ms/step - loss: 0.8367 - accuracy: 0.6848 - val_loss: 1.0324 - val_accuracy: 0.6653\n",
      "Epoch 13/15\n",
      "100/100 [==============================] - 50s 495ms/step - loss: 0.8402 - accuracy: 0.6848 - val_loss: 0.8781 - val_accuracy: 0.6663\n",
      "Epoch 14/15\n",
      "100/100 [==============================] - 48s 477ms/step - loss: 0.8362 - accuracy: 0.6848 - val_loss: 0.9468 - val_accuracy: 0.6687\n",
      "Epoch 15/15\n",
      "100/100 [==============================] - 52s 518ms/step - loss: 0.8450 - accuracy: 0.6848 - val_loss: 0.9182 - val_accuracy: 0.6663\n"
     ]
    },
    {
     "name": "stderr",
     "output_type": "stream",
     "text": [
      "/opt/anaconda3/lib/python3.7/site-packages/ipykernel_launcher.py:7: UserWarning: Update your `MaxPooling2D` call to the Keras 2 API: `MaxPooling2D(pool_size=(2, 2), data_format=\"channels_first\")`\n",
      "  import sys\n",
      "/opt/anaconda3/lib/python3.7/site-packages/ipykernel_launcher.py:10: UserWarning: Update your `MaxPooling2D` call to the Keras 2 API: `MaxPooling2D(pool_size=(2, 2), data_format=\"channels_first\")`\n",
      "  # Remove the CWD from sys.path while we load stuff.\n",
      "/opt/anaconda3/lib/python3.7/site-packages/ipykernel_launcher.py:13: UserWarning: Update your `MaxPooling2D` call to the Keras 2 API: `MaxPooling2D(pool_size=(2, 2), data_format=\"channels_first\")`\n",
      "  del sys.path[0]\n"
     ]
    },
    {
     "name": "stdout",
     "output_type": "stream",
     "text": [
      "Epoch 1/15\n",
      "100/100 [==============================] - 55s 546ms/step - loss: 970257.1387 - accuracy: 0.6647 - val_loss: 1.0494 - val_accuracy: 0.6643\n",
      "Epoch 2/15\n",
      "100/100 [==============================] - 47s 472ms/step - loss: 0.8568 - accuracy: 0.6848 - val_loss: 0.6121 - val_accuracy: 0.6704\n",
      "Epoch 3/15\n",
      "100/100 [==============================] - 48s 485ms/step - loss: 0.8341 - accuracy: 0.6848 - val_loss: 0.7972 - val_accuracy: 0.6633\n",
      "Epoch 4/15\n",
      "100/100 [==============================] - 47s 468ms/step - loss: 0.8509 - accuracy: 0.6848 - val_loss: 1.0833 - val_accuracy: 0.6663\n",
      "Epoch 5/15\n",
      "100/100 [==============================] - 47s 470ms/step - loss: 0.8498 - accuracy: 0.6848 - val_loss: 0.8075 - val_accuracy: 0.6704\n",
      "Epoch 6/15\n",
      "100/100 [==============================] - 50s 497ms/step - loss: 0.8602 - accuracy: 0.6848 - val_loss: 0.8733 - val_accuracy: 0.6653\n",
      "Epoch 7/15\n",
      "100/100 [==============================] - 49s 487ms/step - loss: 0.8673 - accuracy: 0.6848 - val_loss: 0.7536 - val_accuracy: 0.6667\n",
      "Epoch 8/15\n",
      "100/100 [==============================] - 47s 466ms/step - loss: 0.8545 - accuracy: 0.6848 - val_loss: 0.7230 - val_accuracy: 0.6694\n",
      "Epoch 9/15\n",
      "100/100 [==============================] - 46s 465ms/step - loss: 0.8396 - accuracy: 0.6848 - val_loss: 0.9128 - val_accuracy: 0.6643\n",
      "Epoch 10/15\n",
      "100/100 [==============================] - 46s 460ms/step - loss: 0.8289 - accuracy: 0.6848 - val_loss: 1.1104 - val_accuracy: 0.6623\n",
      "Epoch 11/15\n",
      "100/100 [==============================] - 47s 466ms/step - loss: 0.8444 - accuracy: 0.6848 - val_loss: 0.9142 - val_accuracy: 0.6704\n",
      "Epoch 12/15\n",
      "100/100 [==============================] - 62s 623ms/step - loss: 0.8663 - accuracy: 0.6848 - val_loss: 1.0140 - val_accuracy: 0.6684\n",
      "Epoch 13/15\n",
      "100/100 [==============================] - 54s 535ms/step - loss: 0.8570 - accuracy: 0.6848 - val_loss: 0.7840 - val_accuracy: 0.6673\n",
      "Epoch 14/15\n",
      "100/100 [==============================] - 53s 526ms/step - loss: 0.8380 - accuracy: 0.6848 - val_loss: 0.6985 - val_accuracy: 0.6646\n",
      "Epoch 15/15\n",
      "100/100 [==============================] - 53s 528ms/step - loss: 0.8399 - accuracy: 0.6848 - val_loss: 0.7301 - val_accuracy: 0.6684\n",
      "WARNING:tensorflow:Large dropout rate: 0.8 (>0.5). In TensorFlow 2.x, dropout() uses dropout rate instead of keep_prob. Please ensure that this is intended.\n"
     ]
    },
    {
     "name": "stderr",
     "output_type": "stream",
     "text": [
      "/opt/anaconda3/lib/python3.7/site-packages/ipykernel_launcher.py:7: UserWarning: Update your `MaxPooling2D` call to the Keras 2 API: `MaxPooling2D(pool_size=(2, 2), data_format=\"channels_first\")`\n",
      "  import sys\n",
      "/opt/anaconda3/lib/python3.7/site-packages/ipykernel_launcher.py:10: UserWarning: Update your `MaxPooling2D` call to the Keras 2 API: `MaxPooling2D(pool_size=(2, 2), data_format=\"channels_first\")`\n",
      "  # Remove the CWD from sys.path while we load stuff.\n",
      "/opt/anaconda3/lib/python3.7/site-packages/ipykernel_launcher.py:13: UserWarning: Update your `MaxPooling2D` call to the Keras 2 API: `MaxPooling2D(pool_size=(2, 2), data_format=\"channels_first\")`\n",
      "  del sys.path[0]\n"
     ]
    },
    {
     "name": "stdout",
     "output_type": "stream",
     "text": [
      "Epoch 1/15\n",
      "100/100 [==============================] - 52s 524ms/step - loss: 1.9921 - accuracy: 0.6380 - val_loss: 0.8961 - val_accuracy: 0.6663\n",
      "Epoch 2/15\n",
      "100/100 [==============================] - 58s 583ms/step - loss: 0.9543 - accuracy: 0.6810 - val_loss: 0.9614 - val_accuracy: 0.6673\n",
      "Epoch 3/15\n",
      "100/100 [==============================] - 57s 574ms/step - loss: 0.9261 - accuracy: 0.6804 - val_loss: 0.7125 - val_accuracy: 0.6694\n",
      "Epoch 4/15\n",
      "100/100 [==============================] - 53s 529ms/step - loss: 0.8962 - accuracy: 0.6842 - val_loss: 1.0632 - val_accuracy: 0.6633\n",
      "Epoch 5/15\n",
      "100/100 [==============================] - 53s 529ms/step - loss: 0.8968 - accuracy: 0.6848 - val_loss: 0.9564 - val_accuracy: 0.6633\n",
      "Epoch 6/15\n",
      "100/100 [==============================] - 55s 554ms/step - loss: 0.8915 - accuracy: 0.6848 - val_loss: 0.9850 - val_accuracy: 0.6714\n",
      "Epoch 7/15\n",
      "100/100 [==============================] - 52s 524ms/step - loss: 0.8588 - accuracy: 0.6842 - val_loss: 1.0601 - val_accuracy: 0.6657\n",
      "Epoch 8/15\n",
      "100/100 [==============================] - 52s 521ms/step - loss: 0.8658 - accuracy: 0.6848 - val_loss: 1.2198 - val_accuracy: 0.6613\n",
      "Epoch 9/15\n",
      "100/100 [==============================] - 58s 584ms/step - loss: 0.8665 - accuracy: 0.6848 - val_loss: 0.8873 - val_accuracy: 0.6714\n",
      "Epoch 10/15\n",
      "100/100 [==============================] - 53s 532ms/step - loss: 0.8796 - accuracy: 0.6848 - val_loss: 0.6738 - val_accuracy: 0.6744\n",
      "Epoch 11/15\n",
      "100/100 [==============================] - 55s 552ms/step - loss: 0.8523 - accuracy: 0.6848 - val_loss: 0.6920 - val_accuracy: 0.6602\n",
      "Epoch 12/15\n",
      "100/100 [==============================] - 53s 526ms/step - loss: 0.8422 - accuracy: 0.6842 - val_loss: 1.0204 - val_accuracy: 0.6653\n",
      "Epoch 13/15\n",
      "100/100 [==============================] - 50s 497ms/step - loss: 0.8453 - accuracy: 0.6848 - val_loss: 1.0466 - val_accuracy: 0.6694\n",
      "Epoch 14/15\n",
      "100/100 [==============================] - 54s 537ms/step - loss: 0.8156 - accuracy: 0.6848 - val_loss: 0.6333 - val_accuracy: 0.6646\n",
      "Epoch 15/15\n",
      "100/100 [==============================] - 51s 514ms/step - loss: 0.7902 - accuracy: 0.6848 - val_loss: 0.7633 - val_accuracy: 0.6663\n",
      "WARNING:tensorflow:Large dropout rate: 0.8 (>0.5). In TensorFlow 2.x, dropout() uses dropout rate instead of keep_prob. Please ensure that this is intended.\n"
     ]
    },
    {
     "name": "stderr",
     "output_type": "stream",
     "text": [
      "/opt/anaconda3/lib/python3.7/site-packages/ipykernel_launcher.py:7: UserWarning: Update your `MaxPooling2D` call to the Keras 2 API: `MaxPooling2D(pool_size=(2, 2), data_format=\"channels_first\")`\n",
      "  import sys\n",
      "/opt/anaconda3/lib/python3.7/site-packages/ipykernel_launcher.py:10: UserWarning: Update your `MaxPooling2D` call to the Keras 2 API: `MaxPooling2D(pool_size=(2, 2), data_format=\"channels_first\")`\n",
      "  # Remove the CWD from sys.path while we load stuff.\n",
      "/opt/anaconda3/lib/python3.7/site-packages/ipykernel_launcher.py:13: UserWarning: Update your `MaxPooling2D` call to the Keras 2 API: `MaxPooling2D(pool_size=(2, 2), data_format=\"channels_first\")`\n",
      "  del sys.path[0]\n"
     ]
    },
    {
     "name": "stdout",
     "output_type": "stream",
     "text": [
      "Epoch 1/15\n",
      "100/100 [==============================] - 62s 617ms/step - loss: 161.0026 - accuracy: 0.6658 - val_loss: 0.7570 - val_accuracy: 0.6684\n",
      "Epoch 2/15\n",
      "100/100 [==============================] - 57s 574ms/step - loss: 0.8602 - accuracy: 0.6848 - val_loss: 0.9258 - val_accuracy: 0.6623\n",
      "Epoch 3/15\n",
      "100/100 [==============================] - 58s 583ms/step - loss: 0.8526 - accuracy: 0.6848 - val_loss: 0.9064 - val_accuracy: 0.6673\n",
      "Epoch 4/15\n",
      "100/100 [==============================] - 58s 578ms/step - loss: 0.8497 - accuracy: 0.6848 - val_loss: 1.3127 - val_accuracy: 0.6684\n",
      "Epoch 5/15\n",
      "100/100 [==============================] - 59s 588ms/step - loss: 0.8415 - accuracy: 0.6848 - val_loss: 0.9569 - val_accuracy: 0.6663\n",
      "Epoch 6/15\n",
      "100/100 [==============================] - 57s 567ms/step - loss: 0.8335 - accuracy: 0.6848 - val_loss: 0.9839 - val_accuracy: 0.6633\n",
      "Epoch 7/15\n",
      "100/100 [==============================] - 57s 572ms/step - loss: 0.8427 - accuracy: 0.6848 - val_loss: 0.6299 - val_accuracy: 0.6707\n",
      "Epoch 8/15\n",
      "100/100 [==============================] - 53s 525ms/step - loss: 0.8396 - accuracy: 0.6848 - val_loss: 0.6590 - val_accuracy: 0.6694\n",
      "Epoch 9/15\n",
      "100/100 [==============================] - 58s 576ms/step - loss: 0.8419 - accuracy: 0.6848 - val_loss: 0.8891 - val_accuracy: 0.6613\n",
      "Epoch 10/15\n",
      "100/100 [==============================] - 57s 565ms/step - loss: 0.8411 - accuracy: 0.6848 - val_loss: 0.7129 - val_accuracy: 0.6673\n",
      "Epoch 11/15\n",
      "100/100 [==============================] - 56s 557ms/step - loss: 0.8496 - accuracy: 0.6848 - val_loss: 0.9706 - val_accuracy: 0.6673\n",
      "Epoch 12/15\n",
      "100/100 [==============================] - 56s 559ms/step - loss: 0.8473 - accuracy: 0.6848 - val_loss: 0.7943 - val_accuracy: 0.6704\n",
      "Epoch 13/15\n",
      "100/100 [==============================] - 53s 533ms/step - loss: 0.8394 - accuracy: 0.6848 - val_loss: 1.1088 - val_accuracy: 0.6653\n",
      "Epoch 14/15\n",
      "100/100 [==============================] - 52s 521ms/step - loss: 0.8226 - accuracy: 0.6848 - val_loss: 0.5177 - val_accuracy: 0.6657\n",
      "Epoch 15/15\n",
      "100/100 [==============================] - 53s 531ms/step - loss: 0.8550 - accuracy: 0.6848 - val_loss: 0.8879 - val_accuracy: 0.6663\n"
     ]
    },
    {
     "name": "stderr",
     "output_type": "stream",
     "text": [
      "/opt/anaconda3/lib/python3.7/site-packages/ipykernel_launcher.py:7: UserWarning: Update your `MaxPooling2D` call to the Keras 2 API: `MaxPooling2D(pool_size=(2, 2), data_format=\"channels_first\")`\n",
      "  import sys\n",
      "/opt/anaconda3/lib/python3.7/site-packages/ipykernel_launcher.py:10: UserWarning: Update your `MaxPooling2D` call to the Keras 2 API: `MaxPooling2D(pool_size=(2, 2), data_format=\"channels_first\")`\n",
      "  # Remove the CWD from sys.path while we load stuff.\n",
      "/opt/anaconda3/lib/python3.7/site-packages/ipykernel_launcher.py:13: UserWarning: Update your `MaxPooling2D` call to the Keras 2 API: `MaxPooling2D(pool_size=(2, 2), data_format=\"channels_first\")`\n",
      "  del sys.path[0]\n"
     ]
    },
    {
     "name": "stdout",
     "output_type": "stream",
     "text": [
      "Epoch 1/15\n",
      "100/100 [==============================] - 55s 552ms/step - loss: 1266217.3285 - accuracy: 0.6712 - val_loss: 0.9399 - val_accuracy: 0.6653\n",
      "Epoch 2/15\n",
      "100/100 [==============================] - 55s 546ms/step - loss: 0.8652 - accuracy: 0.6848 - val_loss: 0.9693 - val_accuracy: 0.6694\n",
      "Epoch 3/15\n",
      "100/100 [==============================] - 67s 673ms/step - loss: 0.8573 - accuracy: 0.6848 - val_loss: 1.0451 - val_accuracy: 0.6653\n",
      "Epoch 4/15\n",
      "100/100 [==============================] - 60s 599ms/step - loss: 0.8555 - accuracy: 0.6848 - val_loss: 0.8923 - val_accuracy: 0.6623\n",
      "Epoch 5/15\n",
      "100/100 [==============================] - 56s 557ms/step - loss: 0.8583 - accuracy: 0.6848 - val_loss: 1.0163 - val_accuracy: 0.6724\n",
      "Epoch 6/15\n",
      "100/100 [==============================] - 56s 563ms/step - loss: 0.8315 - accuracy: 0.6848 - val_loss: 0.8974 - val_accuracy: 0.6623\n",
      "Epoch 7/15\n",
      "100/100 [==============================] - 55s 551ms/step - loss: 0.8452 - accuracy: 0.6848 - val_loss: 0.9406 - val_accuracy: 0.6697\n",
      "Epoch 8/15\n",
      "100/100 [==============================] - 54s 537ms/step - loss: 0.8419 - accuracy: 0.6848 - val_loss: 0.6645 - val_accuracy: 0.6694\n",
      "Epoch 9/15\n",
      "100/100 [==============================] - 58s 576ms/step - loss: 0.8476 - accuracy: 0.6848 - val_loss: 0.7925 - val_accuracy: 0.6623\n",
      "Epoch 10/15\n",
      "100/100 [==============================] - 57s 572ms/step - loss: 0.8634 - accuracy: 0.6848 - val_loss: 1.1803 - val_accuracy: 0.6653\n",
      "Epoch 11/15\n",
      "100/100 [==============================] - 54s 537ms/step - loss: 0.8616 - accuracy: 0.6848 - val_loss: 0.6058 - val_accuracy: 0.6714\n",
      "Epoch 12/15\n",
      "100/100 [==============================] - 57s 568ms/step - loss: 0.8467 - accuracy: 0.6848 - val_loss: 0.9524 - val_accuracy: 0.6653\n",
      "Epoch 13/15\n",
      "100/100 [==============================] - 54s 535ms/step - loss: 0.8537 - accuracy: 0.6848 - val_loss: 0.8904 - val_accuracy: 0.6673\n",
      "Epoch 14/15\n",
      "100/100 [==============================] - 60s 598ms/step - loss: 0.8506 - accuracy: 0.6848 - val_loss: 0.8447 - val_accuracy: 0.6657\n",
      "Epoch 15/15\n",
      "100/100 [==============================] - 65s 652ms/step - loss: 0.8445 - accuracy: 0.6848 - val_loss: 0.5517 - val_accuracy: 0.6714\n"
     ]
    }
   ],
   "source": [
    "for i in range(len(dropout_rates)):\n",
    "    dropout_rate = dropout_rates[i]\n",
    "    for j in range(len(learning_rates)):\n",
    "        learning_rate = learning_rates[j]\n",
    "        model = build_cnn(dropout_rate)\n",
    "        #compile thee model\n",
    "        model.compile(optimizer=RMSprop(lr = learning_rate), loss='categorical_crossentropy', metrics=['accuracy'])\n",
    "        history = model.fit_generator(train_generator,\n",
    "                                      validation_data = test_generator,\n",
    "                                      steps_per_epoch = 100,\n",
    "                                      epochs = 15,\n",
    "                                      validation_steps = 50,\n",
    "                                      verbose = 1)        \n",
    "        accs[i][j] = max(history.history[\"val_accuracy\"])"
   ]
  },
  {
   "cell_type": "code",
   "execution_count": 29,
   "metadata": {},
   "outputs": [],
   "source": [
    "#Get the accuracy and parameters for which we have best accuracy\n",
    "accuracy_df = pd.DataFrame(data=accs, index=dropout_rates, columns=learning_rates)  \n",
    "accuracy_df.to_csv(\"CNN_all_results.csv\")\n",
    "\n",
    "ind = np.unravel_index(np.argmax(accs, axis=None), accs.shape) \n",
    "dropout_rate = dropout_rates[ind[0]]\n",
    "learning_rate = learning_rates[ind[1]]\n",
    "\n",
    "with open(\"CNN_best_result.txt\", \"a+\") as f:\n",
    "    f.write(\"Best Model Dropout Rate: %f\" %dropout_rate)\n",
    "    f.write(\"Best Model Learning Rate: %f\" %learning_rate)\n",
    "    f.write(\"Best Model Loss: %f\" %accs[ind[0]][ind[1]])"
   ]
  },
  {
   "cell_type": "code",
   "execution_count": 30,
   "metadata": {},
   "outputs": [
    {
     "data": {
      "text/html": [
       "<div>\n",
       "<style scoped>\n",
       "    .dataframe tbody tr th:only-of-type {\n",
       "        vertical-align: middle;\n",
       "    }\n",
       "\n",
       "    .dataframe tbody tr th {\n",
       "        vertical-align: top;\n",
       "    }\n",
       "\n",
       "    .dataframe thead th {\n",
       "        text-align: right;\n",
       "    }\n",
       "</style>\n",
       "<table border=\"1\" class=\"dataframe\">\n",
       "  <thead>\n",
       "    <tr style=\"text-align: right;\">\n",
       "      <th></th>\n",
       "      <th>0.001</th>\n",
       "      <th>0.010</th>\n",
       "      <th>0.100</th>\n",
       "    </tr>\n",
       "  </thead>\n",
       "  <tbody>\n",
       "    <tr>\n",
       "      <td>0.1</td>\n",
       "      <td>0.674442</td>\n",
       "      <td>0.675456</td>\n",
       "      <td>0.671400</td>\n",
       "    </tr>\n",
       "    <tr>\n",
       "      <td>0.2</td>\n",
       "      <td>0.718053</td>\n",
       "      <td>0.670385</td>\n",
       "      <td>0.675456</td>\n",
       "    </tr>\n",
       "    <tr>\n",
       "      <td>0.5</td>\n",
       "      <td>0.673428</td>\n",
       "      <td>0.676471</td>\n",
       "      <td>0.670385</td>\n",
       "    </tr>\n",
       "    <tr>\n",
       "      <td>0.8</td>\n",
       "      <td>0.674442</td>\n",
       "      <td>0.670732</td>\n",
       "      <td>0.672414</td>\n",
       "    </tr>\n",
       "  </tbody>\n",
       "</table>\n",
       "</div>"
      ],
      "text/plain": [
       "        0.001     0.010     0.100\n",
       "0.1  0.674442  0.675456  0.671400\n",
       "0.2  0.718053  0.670385  0.675456\n",
       "0.5  0.673428  0.676471  0.670385\n",
       "0.8  0.674442  0.670732  0.672414"
      ]
     },
     "execution_count": 30,
     "metadata": {},
     "output_type": "execute_result"
    }
   ],
   "source": [
    "accuracy_df"
   ]
  },
  {
   "cell_type": "code",
   "execution_count": 36,
   "metadata": {},
   "outputs": [],
   "source": [
    "filepath=\"weights-improvement-{epoch:02d}-{val_accuracy:.2f}.hdf5\"\n",
    "checkpoint = ModelCheckpoint(filepath, monitor='val_acc', verbose=1, save_best_only=True, mode='max')\n",
    "callbacks_list = [checkpoint]"
   ]
  },
  {
   "cell_type": "code",
   "execution_count": 37,
   "metadata": {},
   "outputs": [
    {
     "name": "stdout",
     "output_type": "stream",
     "text": [
      "Epoch 1/15\n",
      "100/100 [==============================] - 57s 569ms/step - loss: 0.8514 - accuracy: 0.6848 - val_loss: 0.9670 - val_accuracy: 0.6653\n",
      "Epoch 2/15\n"
     ]
    },
    {
     "name": "stderr",
     "output_type": "stream",
     "text": [
      "/opt/anaconda3/lib/python3.7/site-packages/keras/callbacks/callbacks.py:707: RuntimeWarning: Can save best model only with val_acc available, skipping.\n",
      "  'skipping.' % (self.monitor), RuntimeWarning)\n"
     ]
    },
    {
     "name": "stdout",
     "output_type": "stream",
     "text": [
      "100/100 [==============================] - 54s 542ms/step - loss: 0.8438 - accuracy: 0.6848 - val_loss: 0.8879 - val_accuracy: 0.6653\n",
      "Epoch 3/15\n",
      "100/100 [==============================] - 54s 544ms/step - loss: 0.8366 - accuracy: 0.6848 - val_loss: 0.8721 - val_accuracy: 0.6673\n",
      "Epoch 4/15\n",
      "100/100 [==============================] - 54s 545ms/step - loss: 0.8391 - accuracy: 0.6848 - val_loss: 0.6780 - val_accuracy: 0.6684\n",
      "Epoch 5/15\n",
      "100/100 [==============================] - 56s 556ms/step - loss: 0.8499 - accuracy: 0.6848 - val_loss: 1.0031 - val_accuracy: 0.6694\n",
      "Epoch 6/15\n",
      "100/100 [==============================] - 53s 535ms/step - loss: 0.8357 - accuracy: 0.6848 - val_loss: 0.9399 - val_accuracy: 0.6653\n",
      "Epoch 7/15\n",
      "100/100 [==============================] - 52s 523ms/step - loss: 0.8352 - accuracy: 0.6848 - val_loss: 0.6910 - val_accuracy: 0.6657\n",
      "Epoch 8/15\n",
      "100/100 [==============================] - 53s 525ms/step - loss: 0.8443 - accuracy: 0.6848 - val_loss: 0.8738 - val_accuracy: 0.6663\n",
      "Epoch 9/15\n",
      "100/100 [==============================] - 55s 546ms/step - loss: 0.8408 - accuracy: 0.6848 - val_loss: 0.8077 - val_accuracy: 0.6663\n",
      "Epoch 10/15\n",
      "100/100 [==============================] - 51s 509ms/step - loss: 0.8423 - accuracy: 0.6848 - val_loss: 0.8744 - val_accuracy: 0.6684\n",
      "Epoch 11/15\n",
      "100/100 [==============================] - 60s 600ms/step - loss: 0.8396 - accuracy: 0.6848 - val_loss: 0.9190 - val_accuracy: 0.6653\n",
      "Epoch 12/15\n",
      "100/100 [==============================] - 56s 558ms/step - loss: 0.8279 - accuracy: 0.6848 - val_loss: 0.8226 - val_accuracy: 0.6663\n",
      "Epoch 13/15\n",
      "100/100 [==============================] - 53s 533ms/step - loss: 0.8370 - accuracy: 0.6848 - val_loss: 0.9047 - val_accuracy: 0.6653\n",
      "Epoch 14/15\n",
      "100/100 [==============================] - 54s 536ms/step - loss: 0.8358 - accuracy: 0.6848 - val_loss: 0.8725 - val_accuracy: 0.6687\n",
      "Epoch 15/15\n",
      "100/100 [==============================] - 54s 540ms/step - loss: 0.8284 - accuracy: 0.6848 - val_loss: 0.8225 - val_accuracy: 0.6673\n"
     ]
    },
    {
     "name": "stderr",
     "output_type": "stream",
     "text": [
      "/opt/anaconda3/lib/python3.7/site-packages/keras/engine/saving.py:165: UserWarning: TensorFlow optimizers do not make it possible to access optimizer attributes or optimizer state after instantiation. As a result, we cannot save the optimizer as part of the model save file.You will have to compile your model again after loading it. Prefer using a Keras optimizer instead (see keras.io/optimizers).\n",
      "  'TensorFlow optimizers do not '\n"
     ]
    }
   ],
   "source": [
    "#train and save model with best hyperparameters\n",
    "model.compile(optimizer=RMSprop(lr = learning_rate), loss='categorical_crossentropy', metrics=['accuracy'])\n",
    "history = model.fit_generator(train_generator,\n",
    "                              validation_data = test_generator,\n",
    "                              steps_per_epoch = 100,\n",
    "                              epochs = 15,\n",
    "                              validation_steps = 50,\n",
    "                              callbacks = callbacks_list,\n",
    "                              verbose = 1)\n",
    "model.save('best_CNN_model.h5')\n"
   ]
  },
  {
   "cell_type": "code",
   "execution_count": 1,
   "metadata": {},
   "outputs": [
    {
     "ename": "NameError",
     "evalue": "name 'np' is not defined",
     "output_type": "error",
     "traceback": [
      "\u001b[0;31m---------------------------------------------------------------------------\u001b[0m",
      "\u001b[0;31mNameError\u001b[0m                                 Traceback (most recent call last)",
      "\u001b[0;32m<ipython-input-1-c8ed4bc11a04>\u001b[0m in \u001b[0;36m<module>\u001b[0;34m\u001b[0m\n\u001b[1;32m      1\u001b[0m \u001b[0mclasses\u001b[0m \u001b[0;34m=\u001b[0m \u001b[0mopen\u001b[0m\u001b[0;34m(\u001b[0m\u001b[0;34m'classifications.txt'\u001b[0m\u001b[0;34m,\u001b[0m \u001b[0;34m'r'\u001b[0m\u001b[0;34m)\u001b[0m\u001b[0;34m.\u001b[0m\u001b[0mread\u001b[0m\u001b[0;34m(\u001b[0m\u001b[0;34m)\u001b[0m\u001b[0;34m\u001b[0m\u001b[0;34m\u001b[0m\u001b[0m\n\u001b[1;32m      2\u001b[0m \u001b[0mclasses\u001b[0m \u001b[0;34m=\u001b[0m \u001b[0meval\u001b[0m\u001b[0;34m(\u001b[0m\u001b[0mclasses\u001b[0m\u001b[0;34m)\u001b[0m\u001b[0;34m\u001b[0m\u001b[0;34m\u001b[0m\u001b[0m\n\u001b[0;32m----> 3\u001b[0;31m \u001b[0my\u001b[0m \u001b[0;34m=\u001b[0m \u001b[0mnp\u001b[0m\u001b[0;34m.\u001b[0m\u001b[0marray\u001b[0m\u001b[0;34m(\u001b[0m\u001b[0mlist\u001b[0m\u001b[0;34m(\u001b[0m\u001b[0mclasses\u001b[0m\u001b[0;34m.\u001b[0m\u001b[0mvalues\u001b[0m\u001b[0;34m(\u001b[0m\u001b[0;34m)\u001b[0m\u001b[0;34m)\u001b[0m\u001b[0;34m)\u001b[0m\u001b[0;34m\u001b[0m\u001b[0;34m\u001b[0m\u001b[0m\n\u001b[0m",
      "\u001b[0;31mNameError\u001b[0m: name 'np' is not defined"
     ]
    }
   ],
   "source": [
    "classes = open('classifications.txt', 'r').read()\n",
    "classes = eval(classes)\n",
    "y = np.array(list(classes.values()))"
   ]
  },
  {
   "cell_type": "code",
   "execution_count": null,
   "metadata": {},
   "outputs": [],
   "source": []
  },
  {
   "cell_type": "code",
   "execution_count": null,
   "metadata": {},
   "outputs": [],
   "source": []
  }
 ],
 "metadata": {
  "kernelspec": {
   "display_name": "Python 3",
   "language": "python",
   "name": "python3"
  },
  "language_info": {
   "codemirror_mode": {
    "name": "ipython",
    "version": 3
   },
   "file_extension": ".py",
   "mimetype": "text/x-python",
   "name": "python",
   "nbconvert_exporter": "python",
   "pygments_lexer": "ipython3",
   "version": "3.7.4"
  }
 },
 "nbformat": 4,
 "nbformat_minor": 2
}
