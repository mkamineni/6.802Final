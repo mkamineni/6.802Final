{
 "cells": [
  {
   "cell_type": "markdown",
   "metadata": {},
   "source": [
    "This file will process the raw data according to standard processing for RNA seq data. The different normalization methods considered were stored in https://www.ncbi.nlm.nih.gov/pmc/articles/PMC6171491/."
   ]
  },
  {
   "cell_type": "code",
   "execution_count": 9,
   "metadata": {
    "collapsed": false
   },
   "outputs": [],
   "source": [
    "import pandas as pd "
   ]
  },
  {
   "cell_type": "code",
   "execution_count": 10,
   "metadata": {
    "collapsed": true
   },
   "outputs": [],
   "source": [
    "df = pd.read_csv('raw_data.tsv', sep='\\t', header=0)"
   ]
  },
  {
   "cell_type": "code",
   "execution_count": 11,
   "metadata": {
    "collapsed": false
   },
   "outputs": [
    {
     "data": {
      "text/html": [
       "<div>\n",
       "<style scoped>\n",
       "    .dataframe tbody tr th:only-of-type {\n",
       "        vertical-align: middle;\n",
       "    }\n",
       "\n",
       "    .dataframe tbody tr th {\n",
       "        vertical-align: top;\n",
       "    }\n",
       "\n",
       "    .dataframe thead th {\n",
       "        text-align: right;\n",
       "    }\n",
       "</style>\n",
       "<table border=\"1\" class=\"dataframe\">\n",
       "  <thead>\n",
       "    <tr style=\"text-align: right;\">\n",
       "      <th></th>\n",
       "      <th>Gene ID</th>\n",
       "      <th>Gene Name</th>\n",
       "      <th>SRR1782685</th>\n",
       "      <th>SRR1782686</th>\n",
       "      <th>SRR1782687</th>\n",
       "      <th>SRR1782688</th>\n",
       "      <th>SRR1782689</th>\n",
       "      <th>SRR1782690</th>\n",
       "      <th>SRR1782691</th>\n",
       "      <th>SRR1782692</th>\n",
       "      <th>...</th>\n",
       "      <th>SRR1782997</th>\n",
       "      <th>SRR1782998</th>\n",
       "      <th>SRR1782999</th>\n",
       "      <th>SRR1783000</th>\n",
       "      <th>SRR1783001</th>\n",
       "      <th>SRR1783002</th>\n",
       "      <th>SRR1783003</th>\n",
       "      <th>SRR1783004</th>\n",
       "      <th>SRR1783005</th>\n",
       "      <th>SRR1783006</th>\n",
       "    </tr>\n",
       "  </thead>\n",
       "  <tbody>\n",
       "    <tr>\n",
       "      <th>0</th>\n",
       "      <td>ENSG00000000003</td>\n",
       "      <td>TSPAN6</td>\n",
       "      <td>469</td>\n",
       "      <td>107</td>\n",
       "      <td>807</td>\n",
       "      <td>458</td>\n",
       "      <td>173</td>\n",
       "      <td>159</td>\n",
       "      <td>187</td>\n",
       "      <td>223</td>\n",
       "      <td>...</td>\n",
       "      <td>767</td>\n",
       "      <td>371</td>\n",
       "      <td>288</td>\n",
       "      <td>628</td>\n",
       "      <td>580</td>\n",
       "      <td>411</td>\n",
       "      <td>711</td>\n",
       "      <td>697</td>\n",
       "      <td>792</td>\n",
       "      <td>454</td>\n",
       "    </tr>\n",
       "    <tr>\n",
       "      <th>1</th>\n",
       "      <td>ENSG00000000005</td>\n",
       "      <td>TNMD</td>\n",
       "      <td>7</td>\n",
       "      <td>0</td>\n",
       "      <td>11</td>\n",
       "      <td>0</td>\n",
       "      <td>0</td>\n",
       "      <td>2</td>\n",
       "      <td>4</td>\n",
       "      <td>0</td>\n",
       "      <td>...</td>\n",
       "      <td>9</td>\n",
       "      <td>3</td>\n",
       "      <td>0</td>\n",
       "      <td>3</td>\n",
       "      <td>6</td>\n",
       "      <td>0</td>\n",
       "      <td>3</td>\n",
       "      <td>0</td>\n",
       "      <td>6</td>\n",
       "      <td>0</td>\n",
       "    </tr>\n",
       "    <tr>\n",
       "      <th>2</th>\n",
       "      <td>ENSG00000000419</td>\n",
       "      <td>DPM1</td>\n",
       "      <td>238</td>\n",
       "      <td>199</td>\n",
       "      <td>288</td>\n",
       "      <td>220</td>\n",
       "      <td>260</td>\n",
       "      <td>97</td>\n",
       "      <td>108</td>\n",
       "      <td>122</td>\n",
       "      <td>...</td>\n",
       "      <td>381</td>\n",
       "      <td>333</td>\n",
       "      <td>200</td>\n",
       "      <td>376</td>\n",
       "      <td>235</td>\n",
       "      <td>159</td>\n",
       "      <td>643</td>\n",
       "      <td>342</td>\n",
       "      <td>341</td>\n",
       "      <td>297</td>\n",
       "    </tr>\n",
       "    <tr>\n",
       "      <th>3</th>\n",
       "      <td>ENSG00000000457</td>\n",
       "      <td>SCYL3</td>\n",
       "      <td>145</td>\n",
       "      <td>107</td>\n",
       "      <td>151</td>\n",
       "      <td>166</td>\n",
       "      <td>153</td>\n",
       "      <td>38</td>\n",
       "      <td>88</td>\n",
       "      <td>68</td>\n",
       "      <td>...</td>\n",
       "      <td>264</td>\n",
       "      <td>220</td>\n",
       "      <td>142</td>\n",
       "      <td>214</td>\n",
       "      <td>154</td>\n",
       "      <td>61</td>\n",
       "      <td>353</td>\n",
       "      <td>208</td>\n",
       "      <td>154</td>\n",
       "      <td>126</td>\n",
       "    </tr>\n",
       "    <tr>\n",
       "      <th>4</th>\n",
       "      <td>ENSG00000000460</td>\n",
       "      <td>C1orf112</td>\n",
       "      <td>35</td>\n",
       "      <td>43</td>\n",
       "      <td>22</td>\n",
       "      <td>39</td>\n",
       "      <td>37</td>\n",
       "      <td>18</td>\n",
       "      <td>25</td>\n",
       "      <td>21</td>\n",
       "      <td>...</td>\n",
       "      <td>84</td>\n",
       "      <td>58</td>\n",
       "      <td>38</td>\n",
       "      <td>56</td>\n",
       "      <td>59</td>\n",
       "      <td>23</td>\n",
       "      <td>114</td>\n",
       "      <td>56</td>\n",
       "      <td>33</td>\n",
       "      <td>24</td>\n",
       "    </tr>\n",
       "  </tbody>\n",
       "</table>\n",
       "<p>5 rows × 324 columns</p>\n",
       "</div>"
      ],
      "text/plain": [
       "           Gene ID Gene Name  SRR1782685  SRR1782686  SRR1782687  SRR1782688  \\\n",
       "0  ENSG00000000003    TSPAN6         469         107         807         458   \n",
       "1  ENSG00000000005      TNMD           7           0          11           0   \n",
       "2  ENSG00000000419      DPM1         238         199         288         220   \n",
       "3  ENSG00000000457     SCYL3         145         107         151         166   \n",
       "4  ENSG00000000460  C1orf112          35          43          22          39   \n",
       "\n",
       "   SRR1782689  SRR1782690  SRR1782691  SRR1782692  ...  SRR1782997  \\\n",
       "0         173         159         187         223  ...         767   \n",
       "1           0           2           4           0  ...           9   \n",
       "2         260          97         108         122  ...         381   \n",
       "3         153          38          88          68  ...         264   \n",
       "4          37          18          25          21  ...          84   \n",
       "\n",
       "   SRR1782998  SRR1782999  SRR1783000  SRR1783001  SRR1783002  SRR1783003  \\\n",
       "0         371         288         628         580         411         711   \n",
       "1           3           0           3           6           0           3   \n",
       "2         333         200         376         235         159         643   \n",
       "3         220         142         214         154          61         353   \n",
       "4          58          38          56          59          23         114   \n",
       "\n",
       "   SRR1783004  SRR1783005  SRR1783006  \n",
       "0         697         792         454  \n",
       "1           0           6           0  \n",
       "2         342         341         297  \n",
       "3         208         154         126  \n",
       "4          56          33          24  \n",
       "\n",
       "[5 rows x 324 columns]"
      ]
     },
     "execution_count": 11,
     "metadata": {},
     "output_type": "execute_result"
    }
   ],
   "source": [
    "df.head()"
   ]
  },
  {
   "cell_type": "code",
   "execution_count": 13,
   "metadata": {
    "collapsed": false
   },
   "outputs": [
    {
     "data": {
      "text/plain": [
       "324"
      ]
     },
     "execution_count": 13,
     "metadata": {},
     "output_type": "execute_result"
    }
   ],
   "source": [
    "len(list(df))"
   ]
  },
  {
   "cell_type": "code",
   "execution_count": null,
   "metadata": {
    "collapsed": true
   },
   "outputs": [],
   "source": []
  }
 ],
 "metadata": {
  "kernelspec": {
   "display_name": "ps2-env",
   "language": "python",
   "name": "ps2-env"
  },
  "language_info": {
   "codemirror_mode": {
    "name": "ipython",
    "version": 3
   },
   "file_extension": ".py",
   "mimetype": "text/x-python",
   "name": "python",
   "nbconvert_exporter": "python",
   "pygments_lexer": "ipython3",
   "version": "3.7.7"
  }
 },
 "nbformat": 4,
 "nbformat_minor": 2
}
