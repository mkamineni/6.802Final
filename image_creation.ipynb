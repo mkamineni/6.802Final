{
 "cells": [
  {
   "cell_type": "markdown",
   "metadata": {},
   "source": [
    "This file creates images containing RNA expression data for many patient samples and genes. The methods used to create these images are in https://journals.plos.org/plosone/article/file?id=10.1371/journal.pone.0230536&type=printable. "
   ]
  },
  {
   "cell_type": "code",
   "execution_count": 1,
   "metadata": {},
   "outputs": [],
   "source": [
    "import pandas as pd\n",
    "import numpy as np"
   ]
  },
  {
   "cell_type": "code",
   "execution_count": 26,
   "metadata": {},
   "outputs": [],
   "source": [
    "f = open(\"briteId_to_geneId.txt\", \"r\")\n",
    "lines = f.readlines()\n",
    "briteIDs = []\n",
    "geneIDs = []\n",
    "for elem in lines:\n",
    "    if elem:\n",
    "        ids = elem.split()\n",
    "        briteIDs.append(ids[0])\n",
    "        geneIDs.append(ids[1])\n",
    "geneID_to_briteID = dict(zip(geneIDs, briteIDs))"
   ]
  },
  {
   "cell_type": "code",
   "execution_count": 63,
   "metadata": {},
   "outputs": [
    {
     "name": "stdout",
     "output_type": "stream",
     "text": [
      "82479\n"
     ]
    }
   ],
   "source": [
    "f = open(\"geneId_to_geneName.txt\", \"r\")\n",
    "lines = f.readlines()\n",
    "geneIDs = []\n",
    "geneNames = []\n",
    "for elem in lines:\n",
    "    if elem:\n",
    "        ids = elem.split()\n",
    "        geneIDs.extend([ids[0]]*(len(ids)-1))\n",
    "        geneNames.extend(ids[1:])\n",
    "geneNames = [elem.strip(';') for elem in geneNames]\n",
    "geneNames = [elem.strip(',') for elem in geneNames]\n",
    "geneName_to_geneID = dict(zip(geneNames, geneIDs))\n",
    "print(len(geneName_to_geneID))"
   ]
  },
  {
   "cell_type": "code",
   "execution_count": 64,
   "metadata": {},
   "outputs": [
    {
     "name": "stdout",
     "output_type": "stream",
     "text": [
      "65217\n",
      "The number of genes that mappped to functional hierarchies: 14122\n",
      "The number of different functional hierarchies available: 40\n"
     ]
    }
   ],
   "source": [
    "f = open('geneNames.txt', 'r')\n",
    "lines = [elem.strip() for elem in f.readlines()]\n",
    "print(len(lines))\n",
    "#get briteID for each element\n",
    "briteIDs = []\n",
    "gene_inds_to_keep = []\n",
    "for ind in range(len(lines)):\n",
    "    elem = lines[ind]\n",
    "    if elem in geneName_to_geneID:\n",
    "        geneID = geneName_to_geneID[elem]\n",
    "        if geneID in geneID_to_briteID:\n",
    "            briteIDs.append(geneID_to_briteID[geneID])\n",
    "            gene_inds_to_keep.append(ind)\n",
    "print(\"The number of genes that mappped to functional hierarchies: %d\" %len(briteIDs))\n",
    "print(\"The number of different functional hierarchies available: %d\" %len(set(briteIDs)))"
   ]
  }
 ],
 "metadata": {
  "kernelspec": {
   "display_name": "Python 3",
   "language": "python",
   "name": "python3"
  },
  "language_info": {
   "codemirror_mode": {
    "name": "ipython",
    "version": 3
   },
   "file_extension": ".py",
   "mimetype": "text/x-python",
   "name": "python",
   "nbconvert_exporter": "python",
   "pygments_lexer": "ipython3",
   "version": "3.7.4"
  }
 },
 "nbformat": 4,
 "nbformat_minor": 2
}
